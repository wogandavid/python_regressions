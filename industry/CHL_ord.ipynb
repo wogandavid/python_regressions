{
 "cells": [
  {
   "cell_type": "code",
   "execution_count": 21,
   "metadata": {},
   "outputs": [],
   "source": [
    "import pandas as pd\n",
    "import numpy as np\n",
    "import matplotlib.pyplot as plt\n",
    "from sklearn.linear_model import LinearRegression\n",
    "from sklearn.metrics import mean_squared_error, r2_score\n",
    "import statsmodels.api as sm"
   ]
  },
  {
   "cell_type": "code",
   "execution_count": 13,
   "metadata": {},
   "outputs": [
    {
     "data": {
      "text/html": [
       "<div>\n",
       "<style scoped>\n",
       "    .dataframe tbody tr th:only-of-type {\n",
       "        vertical-align: middle;\n",
       "    }\n",
       "\n",
       "    .dataframe tbody tr th {\n",
       "        vertical-align: top;\n",
       "    }\n",
       "\n",
       "    .dataframe thead th {\n",
       "        text-align: right;\n",
       "    }\n",
       "</style>\n",
       "<table border=\"1\" class=\"dataframe\">\n",
       "  <thead>\n",
       "    <tr style=\"text-align: right;\">\n",
       "      <th></th>\n",
       "      <th>year</th>\n",
       "      <th>GDP</th>\n",
       "      <th>Pop</th>\n",
       "      <th>Steel</th>\n",
       "      <th>ordinal</th>\n",
       "      <th>GDP_pc</th>\n",
       "      <th>Prod_pc</th>\n",
       "      <th>GDP_pc_ln</th>\n",
       "      <th>Prod_pc_ln</th>\n",
       "    </tr>\n",
       "  </thead>\n",
       "  <tbody>\n",
       "    <tr>\n",
       "      <th>0</th>\n",
       "      <td>1980</td>\n",
       "      <td>75244937.47</td>\n",
       "      <td>11178.81699</td>\n",
       "      <td>809000</td>\n",
       "      <td>1</td>\n",
       "      <td>6731.028653</td>\n",
       "      <td>72.369017</td>\n",
       "      <td>8.814483</td>\n",
       "      <td>4.281778</td>\n",
       "    </tr>\n",
       "    <tr>\n",
       "      <th>1</th>\n",
       "      <td>1981</td>\n",
       "      <td>78802559.99</td>\n",
       "      <td>11348.44199</td>\n",
       "      <td>724000</td>\n",
       "      <td>2</td>\n",
       "      <td>6943.910015</td>\n",
       "      <td>63.797304</td>\n",
       "      <td>8.845620</td>\n",
       "      <td>4.155711</td>\n",
       "    </tr>\n",
       "    <tr>\n",
       "      <th>2</th>\n",
       "      <td>1982</td>\n",
       "      <td>70661594.54</td>\n",
       "      <td>11527.27403</td>\n",
       "      <td>334000</td>\n",
       "      <td>3</td>\n",
       "      <td>6129.948360</td>\n",
       "      <td>28.974760</td>\n",
       "      <td>8.720942</td>\n",
       "      <td>3.366425</td>\n",
       "    </tr>\n",
       "    <tr>\n",
       "      <th>3</th>\n",
       "      <td>1983</td>\n",
       "      <td>67980358.79</td>\n",
       "      <td>11714.44195</td>\n",
       "      <td>462000</td>\n",
       "      <td>4</td>\n",
       "      <td>5803.123963</td>\n",
       "      <td>39.438498</td>\n",
       "      <td>8.666152</td>\n",
       "      <td>3.674742</td>\n",
       "    </tr>\n",
       "    <tr>\n",
       "      <th>4</th>\n",
       "      <td>1984</td>\n",
       "      <td>73394748.44</td>\n",
       "      <td>11908.18892</td>\n",
       "      <td>628000</td>\n",
       "      <td>5</td>\n",
       "      <td>6163.384620</td>\n",
       "      <td>52.736819</td>\n",
       "      <td>8.726381</td>\n",
       "      <td>3.965314</td>\n",
       "    </tr>\n",
       "  </tbody>\n",
       "</table>\n",
       "</div>"
      ],
      "text/plain": [
       "   year          GDP          Pop   Steel  ordinal       GDP_pc    Prod_pc  \\\n",
       "0  1980  75244937.47  11178.81699  809000        1  6731.028653  72.369017   \n",
       "1  1981  78802559.99  11348.44199  724000        2  6943.910015  63.797304   \n",
       "2  1982  70661594.54  11527.27403  334000        3  6129.948360  28.974760   \n",
       "3  1983  67980358.79  11714.44195  462000        4  5803.123963  39.438498   \n",
       "4  1984  73394748.44  11908.18892  628000        5  6163.384620  52.736819   \n",
       "\n",
       "   GDP_pc_ln  Prod_pc_ln  \n",
       "0   8.814483    4.281778  \n",
       "1   8.845620    4.155711  \n",
       "2   8.720942    3.366425  \n",
       "3   8.666152    3.674742  \n",
       "4   8.726381    3.965314  "
      ]
     },
     "execution_count": 13,
     "metadata": {},
     "output_type": "execute_result"
    }
   ],
   "source": [
    "data = pd.read_csv(\"04_CHL.csv\")\n",
    "\n",
    "# data in per capita\n",
    "data['GDP_pc'] = data[['GDP']].div(data.Pop, axis=0)\n",
    "data['Prod_pc'] = data[['Steel']].div(data.Pop, axis=0)\n",
    "\n",
    "# take ln to linearize\n",
    "data['GDP_pc_ln'] = np.log(data.GDP_pc)\n",
    "data['Prod_pc_ln'] = np.log(data.Prod_pc)\n",
    "data.head()"
   ]
  },
  {
   "cell_type": "code",
   "execution_count": 18,
   "metadata": {},
   "outputs": [
    {
     "data": {
      "text/plain": [
       "LinearRegression(copy_X=True, fit_intercept=True, n_jobs=None,\n",
       "         normalize=False)"
      ]
     },
     "execution_count": 18,
     "metadata": {},
     "output_type": "execute_result"
    }
   ],
   "source": [
    "# regression without lag term\n",
    "# regression using Sci-kit Learn\n",
    "X = data[['ordinal','GDP_pc_ln']]\n",
    "y = data['Prod_pc_ln'].values.reshape(-1,1)\n",
    "reg = LinearRegression()\n",
    "reg.fit(X, y)"
   ]
  },
  {
   "cell_type": "code",
   "execution_count": 19,
   "metadata": {},
   "outputs": [
    {
     "name": "stdout",
     "output_type": "stream",
     "text": [
      "[[-0.03936284  1.92410272]]\n",
      "[-12.75725213]\n"
     ]
    }
   ],
   "source": [
    "print(reg.coef_)\n",
    "print(reg.intercept_)"
   ]
  },
  {
   "cell_type": "code",
   "execution_count": 24,
   "metadata": {},
   "outputs": [
    {
     "name": "stdout",
     "output_type": "stream",
     "text": [
      "                            OLS Regression Results                            \n",
      "==============================================================================\n",
      "Dep. Variable:             Prod_pc_ln   R-squared:                       0.916\n",
      "Model:                            OLS   Adj. R-squared:                  0.910\n",
      "Method:                 Least Squares   F-statistic:                     178.8\n",
      "Date:                Mon, 24 Jun 2019   Prob (F-statistic):           1.95e-18\n",
      "Time:                        18:05:07   Log-Likelihood:                 18.366\n",
      "No. Observations:                  36   AIC:                            -30.73\n",
      "Df Residuals:                      33   BIC:                            -25.98\n",
      "Df Model:                           2                                         \n",
      "Covariance Type:            nonrobust                                         \n",
      "==============================================================================\n",
      "                 coef    std err          t      P>|t|      [0.025      0.975]\n",
      "------------------------------------------------------------------------------\n",
      "const        -12.7573      2.347     -5.436      0.000     -17.532      -7.983\n",
      "x1            -0.0394      0.012     -3.330      0.002      -0.063      -0.015\n",
      "x2             1.9241      0.271      7.094      0.000       1.372       2.476\n",
      "==============================================================================\n",
      "Omnibus:                       18.489   Durbin-Watson:                   1.484\n",
      "Prob(Omnibus):                  0.000   Jarque-Bera (JB):               33.458\n",
      "Skew:                          -1.205   Prob(JB):                     5.43e-08\n",
      "Kurtosis:                       7.061   Cond. No.                     2.22e+03\n",
      "==============================================================================\n",
      "\n",
      "Warnings:\n",
      "[1] Standard Errors assume that the covariance matrix of the errors is correctly specified.\n",
      "[2] The condition number is large, 2.22e+03. This might indicate that there are\n",
      "strong multicollinearity or other numerical problems.\n"
     ]
    }
   ],
   "source": [
    "X2 = np.column_stack((data['ordinal'], data['GDP_pc_ln']))\n",
    "y = data['Prod_pc_ln']\n",
    "\n",
    "X2 = sm.add_constant(X2)\n",
    "est = sm.OLS(y, X2,missing='drop')\n",
    "est2 = est.fit()\n",
    "print(est2.summary())"
   ]
  },
  {
   "cell_type": "code",
   "execution_count": null,
   "metadata": {},
   "outputs": [],
   "source": []
  },
  {
   "cell_type": "code",
   "execution_count": null,
   "metadata": {},
   "outputs": [],
   "source": []
  },
  {
   "cell_type": "code",
   "execution_count": 16,
   "metadata": {},
   "outputs": [
    {
     "data": {
      "text/plain": [
       "LinearRegression(copy_X=True, fit_intercept=True, n_jobs=None,\n",
       "         normalize=False)"
      ]
     },
     "execution_count": 16,
     "metadata": {},
     "output_type": "execute_result"
    }
   ],
   "source": [
    "# add laged dependent variable term\n",
    "data['Prod_pc_ln_lag'] = data['Prod_pc_ln'].shift(periods=1)\n",
    "data = data.dropna()\n",
    "\n",
    "# regression with lagged dependent variable term\n",
    "# regression using Sci-kit Learn\n",
    "Xlag = data[['ordinal','GDP_pc_ln','Prod_pc_ln_lag']]\n",
    "y = data['Prod_pc_ln'].values.reshape(-1,1)\n",
    "reg = LinearRegression()\n",
    "reg.fit(Xlag, y)"
   ]
  },
  {
   "cell_type": "code",
   "execution_count": 17,
   "metadata": {},
   "outputs": [
    {
     "name": "stdout",
     "output_type": "stream",
     "text": [
      "[[-0.04258113  2.0741781  -0.07490693]]\n",
      "[-13.76584471]\n"
     ]
    }
   ],
   "source": [
    "print(reg.coef_)\n",
    "print(reg.intercept_)"
   ]
  },
  {
   "cell_type": "code",
   "execution_count": 25,
   "metadata": {},
   "outputs": [
    {
     "name": "stdout",
     "output_type": "stream",
     "text": [
      "                            OLS Regression Results                            \n",
      "==============================================================================\n",
      "Dep. Variable:             Prod_pc_ln   R-squared:                       0.916\n",
      "Model:                            OLS   Adj. R-squared:                  0.908\n",
      "Method:                 Least Squares   F-statistic:                     116.3\n",
      "Date:                Mon, 24 Jun 2019   Prob (F-statistic):           2.74e-17\n",
      "Time:                        18:05:32   Log-Likelihood:                 18.458\n",
      "No. Observations:                  36   AIC:                            -28.92\n",
      "Df Residuals:                      32   BIC:                            -22.58\n",
      "Df Model:                           3                                         \n",
      "Covariance Type:            nonrobust                                         \n",
      "==============================================================================\n",
      "                 coef    std err          t      P>|t|      [0.025      0.975]\n",
      "------------------------------------------------------------------------------\n",
      "const        -13.7658      3.441     -4.001      0.000     -20.775      -6.757\n",
      "x1            -0.0426      0.014     -2.964      0.006      -0.072      -0.013\n",
      "x2             2.0742      0.461      4.499      0.000       1.135       3.013\n",
      "x3            -0.0749      0.185     -0.405      0.688      -0.451       0.301\n",
      "==============================================================================\n",
      "Omnibus:                       14.789   Durbin-Watson:                   1.413\n",
      "Prob(Omnibus):                  0.001   Jarque-Bera (JB):               23.666\n",
      "Skew:                          -0.979   Prob(JB):                     7.26e-06\n",
      "Kurtosis:                       6.456   Cond. No.                     3.28e+03\n",
      "==============================================================================\n",
      "\n",
      "Warnings:\n",
      "[1] Standard Errors assume that the covariance matrix of the errors is correctly specified.\n",
      "[2] The condition number is large, 3.28e+03. This might indicate that there are\n",
      "strong multicollinearity or other numerical problems.\n"
     ]
    }
   ],
   "source": [
    "X2 = np.column_stack((data['ordinal'], data['GDP_pc_ln'], data['Prod_pc_ln_lag']))\n",
    "y = data['Prod_pc_ln']\n",
    "\n",
    "X2 = sm.add_constant(X2)\n",
    "est = sm.OLS(y, X2,missing='drop')\n",
    "est2 = est.fit()\n",
    "print(est2.summary())"
   ]
  },
  {
   "cell_type": "code",
   "execution_count": null,
   "metadata": {},
   "outputs": [],
   "source": []
  }
 ],
 "metadata": {
  "kernelspec": {
   "display_name": "Python 3",
   "language": "python",
   "name": "python3"
  },
  "language_info": {
   "codemirror_mode": {
    "name": "ipython",
    "version": 3
   },
   "file_extension": ".py",
   "mimetype": "text/x-python",
   "name": "python",
   "nbconvert_exporter": "python",
   "pygments_lexer": "ipython3",
   "version": "3.7.3"
  }
 },
 "nbformat": 4,
 "nbformat_minor": 2
}
