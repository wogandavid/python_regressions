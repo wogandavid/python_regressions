{
 "cells": [
  {
   "cell_type": "code",
   "execution_count": 88,
   "metadata": {},
   "outputs": [],
   "source": [
    "# Model is: ln(prod,y / pop,y) = k+c1*y+c2*ln(GDP,y/Pop,y)+c3*ln(Prod,y-1/Pop,y-1)\n",
    "\n",
    "# Q1. how to perform this using a python package\n",
    "# Q2. how to perform regression over all 21 economies at the same time to generate 21 regressions?\n",
    "\n",
    "# https://towardsdatascience.com/the-complete-guide-to-linear-regression-in-python-3d3f8f06bf8"
   ]
  },
  {
   "cell_type": "code",
   "execution_count": 89,
   "metadata": {},
   "outputs": [],
   "source": [
    "import pandas as pd\n",
    "import numpy as np\n",
    "import matplotlib.pyplot as plt\n",
    "from sklearn.linear_model import LinearRegression\n",
    "from sklearn.metrics import mean_squared_error, r2_score\n",
    "import statsmodels.api as sm"
   ]
  },
  {
   "cell_type": "code",
   "execution_count": 90,
   "metadata": {},
   "outputs": [
    {
     "data": {
      "text/html": [
       "<div>\n",
       "<style scoped>\n",
       "    .dataframe tbody tr th:only-of-type {\n",
       "        vertical-align: middle;\n",
       "    }\n",
       "\n",
       "    .dataframe tbody tr th {\n",
       "        vertical-align: top;\n",
       "    }\n",
       "\n",
       "    .dataframe thead th {\n",
       "        text-align: right;\n",
       "    }\n",
       "</style>\n",
       "<table border=\"1\" class=\"dataframe\">\n",
       "  <thead>\n",
       "    <tr style=\"text-align: right;\">\n",
       "      <th></th>\n",
       "      <th>year</th>\n",
       "      <th>GDP</th>\n",
       "      <th>Pop</th>\n",
       "      <th>Steel</th>\n",
       "    </tr>\n",
       "  </thead>\n",
       "  <tbody>\n",
       "    <tr>\n",
       "      <th>0</th>\n",
       "      <td>1980</td>\n",
       "      <td>75244937.47</td>\n",
       "      <td>11178.81699</td>\n",
       "      <td>809000</td>\n",
       "    </tr>\n",
       "    <tr>\n",
       "      <th>1</th>\n",
       "      <td>1981</td>\n",
       "      <td>78802559.99</td>\n",
       "      <td>11348.44199</td>\n",
       "      <td>724000</td>\n",
       "    </tr>\n",
       "    <tr>\n",
       "      <th>2</th>\n",
       "      <td>1982</td>\n",
       "      <td>70661594.54</td>\n",
       "      <td>11527.27403</td>\n",
       "      <td>334000</td>\n",
       "    </tr>\n",
       "    <tr>\n",
       "      <th>3</th>\n",
       "      <td>1983</td>\n",
       "      <td>67980358.79</td>\n",
       "      <td>11714.44195</td>\n",
       "      <td>462000</td>\n",
       "    </tr>\n",
       "    <tr>\n",
       "      <th>4</th>\n",
       "      <td>1984</td>\n",
       "      <td>73394748.44</td>\n",
       "      <td>11908.18892</td>\n",
       "      <td>628000</td>\n",
       "    </tr>\n",
       "  </tbody>\n",
       "</table>\n",
       "</div>"
      ],
      "text/plain": [
       "   year          GDP          Pop   Steel\n",
       "0  1980  75244937.47  11178.81699  809000\n",
       "1  1981  78802559.99  11348.44199  724000\n",
       "2  1982  70661594.54  11527.27403  334000\n",
       "3  1983  67980358.79  11714.44195  462000\n",
       "4  1984  73394748.44  11908.18892  628000"
      ]
     },
     "execution_count": 90,
     "metadata": {},
     "output_type": "execute_result"
    }
   ],
   "source": [
    "data = pd.read_csv(\"04_CHL.csv\")\n",
    "data.head()"
   ]
  },
  {
   "cell_type": "code",
   "execution_count": 91,
   "metadata": {},
   "outputs": [
    {
     "data": {
      "text/html": [
       "<div>\n",
       "<style scoped>\n",
       "    .dataframe tbody tr th:only-of-type {\n",
       "        vertical-align: middle;\n",
       "    }\n",
       "\n",
       "    .dataframe tbody tr th {\n",
       "        vertical-align: top;\n",
       "    }\n",
       "\n",
       "    .dataframe thead th {\n",
       "        text-align: right;\n",
       "    }\n",
       "</style>\n",
       "<table border=\"1\" class=\"dataframe\">\n",
       "  <thead>\n",
       "    <tr style=\"text-align: right;\">\n",
       "      <th></th>\n",
       "      <th>year</th>\n",
       "      <th>GDP</th>\n",
       "      <th>Pop</th>\n",
       "      <th>Steel</th>\n",
       "      <th>GDP_pc</th>\n",
       "      <th>Prod_pc</th>\n",
       "    </tr>\n",
       "  </thead>\n",
       "  <tbody>\n",
       "    <tr>\n",
       "      <th>0</th>\n",
       "      <td>1980</td>\n",
       "      <td>75244937.47</td>\n",
       "      <td>11178.81699</td>\n",
       "      <td>809000</td>\n",
       "      <td>6731.028653</td>\n",
       "      <td>72.369017</td>\n",
       "    </tr>\n",
       "    <tr>\n",
       "      <th>1</th>\n",
       "      <td>1981</td>\n",
       "      <td>78802559.99</td>\n",
       "      <td>11348.44199</td>\n",
       "      <td>724000</td>\n",
       "      <td>6943.910015</td>\n",
       "      <td>63.797304</td>\n",
       "    </tr>\n",
       "    <tr>\n",
       "      <th>2</th>\n",
       "      <td>1982</td>\n",
       "      <td>70661594.54</td>\n",
       "      <td>11527.27403</td>\n",
       "      <td>334000</td>\n",
       "      <td>6129.948360</td>\n",
       "      <td>28.974760</td>\n",
       "    </tr>\n",
       "    <tr>\n",
       "      <th>3</th>\n",
       "      <td>1983</td>\n",
       "      <td>67980358.79</td>\n",
       "      <td>11714.44195</td>\n",
       "      <td>462000</td>\n",
       "      <td>5803.123963</td>\n",
       "      <td>39.438498</td>\n",
       "    </tr>\n",
       "    <tr>\n",
       "      <th>4</th>\n",
       "      <td>1984</td>\n",
       "      <td>73394748.44</td>\n",
       "      <td>11908.18892</td>\n",
       "      <td>628000</td>\n",
       "      <td>6163.384620</td>\n",
       "      <td>52.736819</td>\n",
       "    </tr>\n",
       "  </tbody>\n",
       "</table>\n",
       "</div>"
      ],
      "text/plain": [
       "   year          GDP          Pop   Steel       GDP_pc    Prod_pc\n",
       "0  1980  75244937.47  11178.81699  809000  6731.028653  72.369017\n",
       "1  1981  78802559.99  11348.44199  724000  6943.910015  63.797304\n",
       "2  1982  70661594.54  11527.27403  334000  6129.948360  28.974760\n",
       "3  1983  67980358.79  11714.44195  462000  5803.123963  39.438498\n",
       "4  1984  73394748.44  11908.18892  628000  6163.384620  52.736819"
      ]
     },
     "execution_count": 91,
     "metadata": {},
     "output_type": "execute_result"
    }
   ],
   "source": [
    "# data in per capita\n",
    "data['GDP_pc'] = data[['GDP']].div(data.Pop, axis=0)\n",
    "data['Prod_pc'] = data[['Steel']].div(data.Pop, axis=0)\n",
    "data.head()"
   ]
  },
  {
   "cell_type": "code",
   "execution_count": 92,
   "metadata": {},
   "outputs": [
    {
     "data": {
      "text/plain": [
       "<matplotlib.collections.PathCollection at 0x1f182d40d30>"
      ]
     },
     "execution_count": 92,
     "metadata": {},
     "output_type": "execute_result"
    },
    {
     "data": {
      "image/png": "[encoded data removed]",
      "text/plain": [
       "<Figure size 1152x576 with 1 Axes>"
      ]
     },
     "metadata": {
      "needs_background": "light"
     },
     "output_type": "display_data"
    }
   ],
   "source": [
    "# visualize GDP per capita on Production per capita \n",
    "plt.figure(figsize=(16, 8))\n",
    "plt.scatter(\n",
    "    data['GDP_pc'],\n",
    "    data['Prod_pc'],\n",
    "    c='black'\n",
    ")"
   ]
  },
  {
   "cell_type": "code",
   "execution_count": 93,
   "metadata": {},
   "outputs": [
    {
     "data": {
      "text/html": [
       "<div>\n",
       "<style scoped>\n",
       "    .dataframe tbody tr th:only-of-type {\n",
       "        vertical-align: middle;\n",
       "    }\n",
       "\n",
       "    .dataframe tbody tr th {\n",
       "        vertical-align: top;\n",
       "    }\n",
       "\n",
       "    .dataframe thead th {\n",
       "        text-align: right;\n",
       "    }\n",
       "</style>\n",
       "<table border=\"1\" class=\"dataframe\">\n",
       "  <thead>\n",
       "    <tr style=\"text-align: right;\">\n",
       "      <th></th>\n",
       "      <th>year</th>\n",
       "      <th>GDP</th>\n",
       "      <th>Pop</th>\n",
       "      <th>Steel</th>\n",
       "      <th>GDP_pc</th>\n",
       "      <th>Prod_pc</th>\n",
       "      <th>GDP_pc_ln</th>\n",
       "      <th>Prod_pc_ln</th>\n",
       "    </tr>\n",
       "  </thead>\n",
       "  <tbody>\n",
       "    <tr>\n",
       "      <th>0</th>\n",
       "      <td>1980</td>\n",
       "      <td>75244937.47</td>\n",
       "      <td>11178.81699</td>\n",
       "      <td>809000</td>\n",
       "      <td>6731.028653</td>\n",
       "      <td>72.369017</td>\n",
       "      <td>8.814483</td>\n",
       "      <td>4.281778</td>\n",
       "    </tr>\n",
       "    <tr>\n",
       "      <th>1</th>\n",
       "      <td>1981</td>\n",
       "      <td>78802559.99</td>\n",
       "      <td>11348.44199</td>\n",
       "      <td>724000</td>\n",
       "      <td>6943.910015</td>\n",
       "      <td>63.797304</td>\n",
       "      <td>8.845620</td>\n",
       "      <td>4.155711</td>\n",
       "    </tr>\n",
       "    <tr>\n",
       "      <th>2</th>\n",
       "      <td>1982</td>\n",
       "      <td>70661594.54</td>\n",
       "      <td>11527.27403</td>\n",
       "      <td>334000</td>\n",
       "      <td>6129.948360</td>\n",
       "      <td>28.974760</td>\n",
       "      <td>8.720942</td>\n",
       "      <td>3.366425</td>\n",
       "    </tr>\n",
       "    <tr>\n",
       "      <th>3</th>\n",
       "      <td>1983</td>\n",
       "      <td>67980358.79</td>\n",
       "      <td>11714.44195</td>\n",
       "      <td>462000</td>\n",
       "      <td>5803.123963</td>\n",
       "      <td>39.438498</td>\n",
       "      <td>8.666152</td>\n",
       "      <td>3.674742</td>\n",
       "    </tr>\n",
       "    <tr>\n",
       "      <th>4</th>\n",
       "      <td>1984</td>\n",
       "      <td>73394748.44</td>\n",
       "      <td>11908.18892</td>\n",
       "      <td>628000</td>\n",
       "      <td>6163.384620</td>\n",
       "      <td>52.736819</td>\n",
       "      <td>8.726381</td>\n",
       "      <td>3.965314</td>\n",
       "    </tr>\n",
       "  </tbody>\n",
       "</table>\n",
       "</div>"
      ],
      "text/plain": [
       "   year          GDP          Pop   Steel       GDP_pc    Prod_pc  GDP_pc_ln  \\\n",
       "0  1980  75244937.47  11178.81699  809000  6731.028653  72.369017   8.814483   \n",
       "1  1981  78802559.99  11348.44199  724000  6943.910015  63.797304   8.845620   \n",
       "2  1982  70661594.54  11527.27403  334000  6129.948360  28.974760   8.720942   \n",
       "3  1983  67980358.79  11714.44195  462000  5803.123963  39.438498   8.666152   \n",
       "4  1984  73394748.44  11908.18892  628000  6163.384620  52.736819   8.726381   \n",
       "\n",
       "   Prod_pc_ln  \n",
       "0    4.281778  \n",
       "1    4.155711  \n",
       "2    3.366425  \n",
       "3    3.674742  \n",
       "4    3.965314  "
      ]
     },
     "execution_count": 93,
     "metadata": {},
     "output_type": "execute_result"
    }
   ],
   "source": [
    "# from above, looks to be logarithmic \n",
    "# take ln to linearize\n",
    "data['GDP_pc_ln'] = np.log(data.GDP_pc)\n",
    "data['Prod_pc_ln'] = np.log(data.Prod_pc)\n",
    "data.head()"
   ]
  },
  {
   "cell_type": "code",
   "execution_count": 94,
   "metadata": {},
   "outputs": [
    {
     "data": {
      "text/plain": [
       "<matplotlib.collections.PathCollection at 0x1f1825db860>"
      ]
     },
     "execution_count": 94,
     "metadata": {},
     "output_type": "execute_result"
    },
    {
     "data": {
      "image/png": "[encoded data removed]",
      "text/plain": [
       "<Figure size 1152x576 with 1 Axes>"
      ]
     },
     "metadata": {
      "needs_background": "light"
     },
     "output_type": "display_data"
    }
   ],
   "source": [
    "# visualize GDP per capita on Production per capita in ln terms \n",
    "plt.figure(figsize=(16, 8))\n",
    "plt.scatter(\n",
    "    data['GDP_pc_ln'],\n",
    "    data['Prod_pc_ln'],\n",
    "    c='blue'\n",
    ")"
   ]
  },
  {
   "cell_type": "markdown",
   "metadata": {},
   "source": [
    "## Regression ----------------------------------------------------------------------------------------------------"
   ]
  },
  {
   "cell_type": "code",
   "execution_count": 104,
   "metadata": {},
   "outputs": [
    {
     "data": {
      "text/plain": [
       "LinearRegression(copy_X=True, fit_intercept=True, n_jobs=None,\n",
       "         normalize=False)"
      ]
     },
     "execution_count": 104,
     "metadata": {},
     "output_type": "execute_result"
    }
   ],
   "source": [
    "# regression using Sci-kit Learn\n",
    "Xs = data.drop(['GDP','Pop','Steel','GDP_pc','Prod_pc'], axis=1)\n",
    "y = data['Prod_pc_ln'].values.reshape(-1,1)\n",
    "# try with one variable\n",
    "reg = LinearRegression()\n",
    "reg.fit(Xs[['GDP_pc_ln']], y)"
   ]
  },
  {
   "cell_type": "code",
   "execution_count": 105,
   "metadata": {},
   "outputs": [],
   "source": [
    "#y = data['Prod_pc_ln'].values.reshape(-1,1)"
   ]
  },
  {
   "cell_type": "code",
   "execution_count": 106,
   "metadata": {},
   "outputs": [
    {
     "name": "stdout",
     "output_type": "stream",
     "text": [
      "[[1.04012699]]\n",
      "[-5.14347772]\n"
     ]
    }
   ],
   "source": [
    "print(reg.coef_)\n",
    "print(reg.intercept_)"
   ]
  },
  {
   "cell_type": "code",
   "execution_count": 107,
   "metadata": {},
   "outputs": [],
   "source": [
    "# add lag term\n",
    "data['Prod_pc_ln_lag'] = data['Prod_pc_ln'].shift(periods=1)\n",
    "data = data.dropna()"
   ]
  },
  {
   "cell_type": "code",
   "execution_count": 108,
   "metadata": {},
   "outputs": [],
   "source": [
    "# regression with lag term\n",
    "# regression using Sci-kit Learn\n",
    "Xlag = data.drop(['GDP','Pop','Steel','GDP_pc','Prod_pc'], axis=1)\n",
    "y = data['Prod_pc_ln'].values.reshape(-1,1)"
   ]
  },
  {
   "cell_type": "code",
   "execution_count": 109,
   "metadata": {},
   "outputs": [
    {
     "data": {
      "text/plain": [
       "LinearRegression(copy_X=True, fit_intercept=True, n_jobs=None,\n",
       "         normalize=False)"
      ]
     },
     "execution_count": 109,
     "metadata": {},
     "output_type": "execute_result"
    }
   ],
   "source": [
    "reg = LinearRegression()\n",
    "reg.fit(Xlag[['GDP_pc_ln','Prod_pc_ln_lag']], y)"
   ]
  },
  {
   "cell_type": "code",
   "execution_count": 110,
   "metadata": {},
   "outputs": [
    {
     "name": "stdout",
     "output_type": "stream",
     "text": [
      "[[0.82050289 0.21552578]]\n",
      "[-4.07407254]\n"
     ]
    }
   ],
   "source": [
    "print(reg.coef_)\n",
    "print(reg.intercept_)"
   ]
  },
  {
   "cell_type": "code",
   "execution_count": 101,
   "metadata": {},
   "outputs": [
    {
     "ename": "ValueError",
     "evalue": "shapes (36,2) and (3,1) not aligned: 2 (dim 1) != 3 (dim 0)",
     "output_type": "error",
     "traceback": [
      "\u001b[1;31m---------------------------------------------------------------------------\u001b[0m",
      "\u001b[1;31mValueError\u001b[0m                                Traceback (most recent call last)",
      "\u001b[1;32m<ipython-input-101-943ec0fad432>\u001b[0m in \u001b[0;36m<module>\u001b[1;34m\u001b[0m\n\u001b[0;32m      1\u001b[0m \u001b[0mXlag\u001b[0m \u001b[1;33m=\u001b[0m \u001b[0mnp\u001b[0m\u001b[1;33m.\u001b[0m\u001b[0mcolumn_stack\u001b[0m\u001b[1;33m(\u001b[0m\u001b[1;33m(\u001b[0m\u001b[0mdata\u001b[0m\u001b[1;33m[\u001b[0m\u001b[1;34m'GDP_pc_ln'\u001b[0m\u001b[1;33m]\u001b[0m\u001b[1;33m,\u001b[0m \u001b[0mdata\u001b[0m\u001b[1;33m[\u001b[0m\u001b[1;34m'Prod_pc_ln_lag'\u001b[0m\u001b[1;33m]\u001b[0m\u001b[1;33m)\u001b[0m\u001b[1;33m)\u001b[0m\u001b[1;33m\u001b[0m\u001b[1;33m\u001b[0m\u001b[0m\n\u001b[1;32m----> 2\u001b[1;33m \u001b[0mpredictions\u001b[0m \u001b[1;33m=\u001b[0m \u001b[0mreg\u001b[0m\u001b[1;33m.\u001b[0m\u001b[0mpredict\u001b[0m\u001b[1;33m(\u001b[0m\u001b[0mXlag\u001b[0m\u001b[1;33m)\u001b[0m\u001b[1;33m\u001b[0m\u001b[1;33m\u001b[0m\u001b[0m\n\u001b[0m\u001b[0;32m      3\u001b[0m \u001b[0mplt\u001b[0m\u001b[1;33m.\u001b[0m\u001b[0mfigure\u001b[0m\u001b[1;33m(\u001b[0m\u001b[0mfigsize\u001b[0m\u001b[1;33m=\u001b[0m\u001b[1;33m(\u001b[0m\u001b[1;36m16\u001b[0m\u001b[1;33m,\u001b[0m \u001b[1;36m8\u001b[0m\u001b[1;33m)\u001b[0m\u001b[1;33m)\u001b[0m\u001b[1;33m\u001b[0m\u001b[1;33m\u001b[0m\u001b[0m\n\u001b[0;32m      4\u001b[0m plt.scatter(\n\u001b[0;32m      5\u001b[0m     \u001b[0mdata\u001b[0m\u001b[1;33m[\u001b[0m\u001b[1;34m'GDP_pc_ln'\u001b[0m\u001b[1;33m]\u001b[0m\u001b[1;33m,\u001b[0m\u001b[1;33m\u001b[0m\u001b[1;33m\u001b[0m\u001b[0m\n",
      "\u001b[1;32m~\\Anaconda3\\lib\\site-packages\\sklearn\\linear_model\\base.py\u001b[0m in \u001b[0;36mpredict\u001b[1;34m(self, X)\u001b[0m\n\u001b[0;32m    211\u001b[0m             \u001b[0mReturns\u001b[0m \u001b[0mpredicted\u001b[0m \u001b[0mvalues\u001b[0m\u001b[1;33m.\u001b[0m\u001b[1;33m\u001b[0m\u001b[1;33m\u001b[0m\u001b[0m\n\u001b[0;32m    212\u001b[0m         \"\"\"\n\u001b[1;32m--> 213\u001b[1;33m         \u001b[1;32mreturn\u001b[0m \u001b[0mself\u001b[0m\u001b[1;33m.\u001b[0m\u001b[0m_decision_function\u001b[0m\u001b[1;33m(\u001b[0m\u001b[0mX\u001b[0m\u001b[1;33m)\u001b[0m\u001b[1;33m\u001b[0m\u001b[1;33m\u001b[0m\u001b[0m\n\u001b[0m\u001b[0;32m    214\u001b[0m \u001b[1;33m\u001b[0m\u001b[0m\n\u001b[0;32m    215\u001b[0m     \u001b[0m_preprocess_data\u001b[0m \u001b[1;33m=\u001b[0m \u001b[0mstaticmethod\u001b[0m\u001b[1;33m(\u001b[0m\u001b[0m_preprocess_data\u001b[0m\u001b[1;33m)\u001b[0m\u001b[1;33m\u001b[0m\u001b[1;33m\u001b[0m\u001b[0m\n",
      "\u001b[1;32m~\\Anaconda3\\lib\\site-packages\\sklearn\\linear_model\\base.py\u001b[0m in \u001b[0;36m_decision_function\u001b[1;34m(self, X)\u001b[0m\n\u001b[0;32m    196\u001b[0m         \u001b[0mX\u001b[0m \u001b[1;33m=\u001b[0m \u001b[0mcheck_array\u001b[0m\u001b[1;33m(\u001b[0m\u001b[0mX\u001b[0m\u001b[1;33m,\u001b[0m \u001b[0maccept_sparse\u001b[0m\u001b[1;33m=\u001b[0m\u001b[1;33m[\u001b[0m\u001b[1;34m'csr'\u001b[0m\u001b[1;33m,\u001b[0m \u001b[1;34m'csc'\u001b[0m\u001b[1;33m,\u001b[0m \u001b[1;34m'coo'\u001b[0m\u001b[1;33m]\u001b[0m\u001b[1;33m)\u001b[0m\u001b[1;33m\u001b[0m\u001b[1;33m\u001b[0m\u001b[0m\n\u001b[0;32m    197\u001b[0m         return safe_sparse_dot(X, self.coef_.T,\n\u001b[1;32m--> 198\u001b[1;33m                                dense_output=True) + self.intercept_\n\u001b[0m\u001b[0;32m    199\u001b[0m \u001b[1;33m\u001b[0m\u001b[0m\n\u001b[0;32m    200\u001b[0m     \u001b[1;32mdef\u001b[0m \u001b[0mpredict\u001b[0m\u001b[1;33m(\u001b[0m\u001b[0mself\u001b[0m\u001b[1;33m,\u001b[0m \u001b[0mX\u001b[0m\u001b[1;33m)\u001b[0m\u001b[1;33m:\u001b[0m\u001b[1;33m\u001b[0m\u001b[1;33m\u001b[0m\u001b[0m\n",
      "\u001b[1;32m~\\Anaconda3\\lib\\site-packages\\sklearn\\utils\\extmath.py\u001b[0m in \u001b[0;36msafe_sparse_dot\u001b[1;34m(a, b, dense_output)\u001b[0m\n\u001b[0;32m    171\u001b[0m         \u001b[1;32mreturn\u001b[0m \u001b[0mret\u001b[0m\u001b[1;33m\u001b[0m\u001b[1;33m\u001b[0m\u001b[0m\n\u001b[0;32m    172\u001b[0m     \u001b[1;32melse\u001b[0m\u001b[1;33m:\u001b[0m\u001b[1;33m\u001b[0m\u001b[1;33m\u001b[0m\u001b[0m\n\u001b[1;32m--> 173\u001b[1;33m         \u001b[1;32mreturn\u001b[0m \u001b[0mnp\u001b[0m\u001b[1;33m.\u001b[0m\u001b[0mdot\u001b[0m\u001b[1;33m(\u001b[0m\u001b[0ma\u001b[0m\u001b[1;33m,\u001b[0m \u001b[0mb\u001b[0m\u001b[1;33m)\u001b[0m\u001b[1;33m\u001b[0m\u001b[1;33m\u001b[0m\u001b[0m\n\u001b[0m\u001b[0;32m    174\u001b[0m \u001b[1;33m\u001b[0m\u001b[0m\n\u001b[0;32m    175\u001b[0m \u001b[1;33m\u001b[0m\u001b[0m\n",
      "\u001b[1;31mValueError\u001b[0m: shapes (36,2) and (3,1) not aligned: 2 (dim 1) != 3 (dim 0)"
     ]
    }
   ],
   "source": [
    "Xlag = np.column_stack((data['GDP_pc_ln'], data['Prod_pc_ln_lag']))\n",
    "predictions = reg.predict(Xlag)\n",
    "plt.figure(figsize=(16, 8))\n",
    "plt.scatter(\n",
    "    data['GDP_pc_ln'],\n",
    "    data['Prod_pc_ln'],\n",
    "    c='blue'\n",
    ")\n",
    "plt.plot(\n",
    "    data['GDP_pc_ln'],\n",
    "    predictions,\n",
    "    c='red',\n",
    "    linewidth=2\n",
    ")\n",
    "plt.xlabel(\"GDP_pc_ln\")\n",
    "plt.ylabel(\"Prod_pc_ln\")\n",
    "plt.show()"
   ]
  },
  {
   "cell_type": "code",
   "execution_count": 75,
   "metadata": {},
   "outputs": [
    {
     "data": {
      "text/plain": [
       "(36, 1)"
      ]
     },
     "execution_count": 75,
     "metadata": {},
     "output_type": "execute_result"
    }
   ],
   "source": [
    "predictions.shape"
   ]
  },
  {
   "cell_type": "code",
   "execution_count": null,
   "metadata": {},
   "outputs": [],
   "source": []
  },
  {
   "cell_type": "code",
   "execution_count": null,
   "metadata": {},
   "outputs": [],
   "source": []
  },
  {
   "cell_type": "code",
   "execution_count": 60,
   "metadata": {},
   "outputs": [
    {
     "name": "stdout",
     "output_type": "stream",
     "text": [
      "                            OLS Regression Results                            \n",
      "==============================================================================\n",
      "Dep. Variable:             Prod_pc_ln   R-squared:                       0.916\n",
      "Model:                            OLS   Adj. R-squared:                  0.910\n",
      "Method:                 Least Squares   F-statistic:                     178.8\n",
      "Date:                Sun, 23 Jun 2019   Prob (F-statistic):           1.95e-18\n",
      "Time:                        13:27:04   Log-Likelihood:                 18.366\n",
      "No. Observations:                  36   AIC:                            -30.73\n",
      "Df Residuals:                      33   BIC:                            -25.98\n",
      "Df Model:                           2                                         \n",
      "Covariance Type:            nonrobust                                         \n",
      "==============================================================================\n",
      "                 coef    std err          t      P>|t|      [0.025      0.975]\n",
      "------------------------------------------------------------------------------\n",
      "const         65.1418     21.111      3.086      0.004      22.191     108.093\n",
      "x1            -0.0394      0.012     -3.330      0.002      -0.063      -0.015\n",
      "x2             1.9241      0.271      7.094      0.000       1.372       2.476\n",
      "==============================================================================\n",
      "Omnibus:                       18.489   Durbin-Watson:                   1.484\n",
      "Prob(Omnibus):                  0.000   Jarque-Bera (JB):               33.458\n",
      "Skew:                          -1.205   Prob(JB):                     5.43e-08\n",
      "Kurtosis:                       7.061   Cond. No.                     1.67e+06\n",
      "==============================================================================\n",
      "\n",
      "Warnings:\n",
      "[1] Standard Errors assume that the covariance matrix of the errors is correctly specified.\n",
      "[2] The condition number is large, 1.67e+06. This might indicate that there are\n",
      "strong multicollinearity or other numerical problems.\n"
     ]
    }
   ],
   "source": [
    "# without lag\n",
    "X = np.column_stack((data['year'], data['GDP_pc_ln']))\n",
    "y = data['Prod_pc_ln']\n",
    "\n",
    "X2 = sm.add_constant(X)\n",
    "est = sm.OLS(y, X2)\n",
    "est2 = est.fit()\n",
    "print(est2.summary())"
   ]
  },
  {
   "cell_type": "code",
   "execution_count": 61,
   "metadata": {},
   "outputs": [],
   "source": [
    "data['Prod_pc_ln_lag'] = data['Prod_pc_ln'].shift(periods=1)"
   ]
  },
  {
   "cell_type": "code",
   "execution_count": 62,
   "metadata": {},
   "outputs": [
    {
     "data": {
      "text/html": [
       "<div>\n",
       "<style scoped>\n",
       "    .dataframe tbody tr th:only-of-type {\n",
       "        vertical-align: middle;\n",
       "    }\n",
       "\n",
       "    .dataframe tbody tr th {\n",
       "        vertical-align: top;\n",
       "    }\n",
       "\n",
       "    .dataframe thead th {\n",
       "        text-align: right;\n",
       "    }\n",
       "</style>\n",
       "<table border=\"1\" class=\"dataframe\">\n",
       "  <thead>\n",
       "    <tr style=\"text-align: right;\">\n",
       "      <th></th>\n",
       "      <th>year</th>\n",
       "      <th>GDP</th>\n",
       "      <th>Pop</th>\n",
       "      <th>Steel</th>\n",
       "      <th>GDP_pc</th>\n",
       "      <th>Prod_pc</th>\n",
       "      <th>GDP_pc_ln</th>\n",
       "      <th>Prod_pc_ln</th>\n",
       "      <th>Prod_pc_ln_lag</th>\n",
       "    </tr>\n",
       "  </thead>\n",
       "  <tbody>\n",
       "    <tr>\n",
       "      <th>1</th>\n",
       "      <td>1981</td>\n",
       "      <td>78802559.99</td>\n",
       "      <td>11348.44199</td>\n",
       "      <td>724000</td>\n",
       "      <td>6943.910015</td>\n",
       "      <td>63.797304</td>\n",
       "      <td>8.845620</td>\n",
       "      <td>4.155711</td>\n",
       "      <td>NaN</td>\n",
       "    </tr>\n",
       "    <tr>\n",
       "      <th>2</th>\n",
       "      <td>1982</td>\n",
       "      <td>70661594.54</td>\n",
       "      <td>11527.27403</td>\n",
       "      <td>334000</td>\n",
       "      <td>6129.948360</td>\n",
       "      <td>28.974760</td>\n",
       "      <td>8.720942</td>\n",
       "      <td>3.366425</td>\n",
       "      <td>4.155711</td>\n",
       "    </tr>\n",
       "    <tr>\n",
       "      <th>3</th>\n",
       "      <td>1983</td>\n",
       "      <td>67980358.79</td>\n",
       "      <td>11714.44195</td>\n",
       "      <td>462000</td>\n",
       "      <td>5803.123963</td>\n",
       "      <td>39.438498</td>\n",
       "      <td>8.666152</td>\n",
       "      <td>3.674742</td>\n",
       "      <td>3.366425</td>\n",
       "    </tr>\n",
       "    <tr>\n",
       "      <th>4</th>\n",
       "      <td>1984</td>\n",
       "      <td>73394748.44</td>\n",
       "      <td>11908.18892</td>\n",
       "      <td>628000</td>\n",
       "      <td>6163.384620</td>\n",
       "      <td>52.736819</td>\n",
       "      <td>8.726381</td>\n",
       "      <td>3.965314</td>\n",
       "      <td>3.674742</td>\n",
       "    </tr>\n",
       "    <tr>\n",
       "      <th>5</th>\n",
       "      <td>1985</td>\n",
       "      <td>78613636.43</td>\n",
       "      <td>12107.22507</td>\n",
       "      <td>570000</td>\n",
       "      <td>6493.117620</td>\n",
       "      <td>47.079326</td>\n",
       "      <td>8.778498</td>\n",
       "      <td>3.851834</td>\n",
       "      <td>3.965314</td>\n",
       "    </tr>\n",
       "  </tbody>\n",
       "</table>\n",
       "</div>"
      ],
      "text/plain": [
       "   year          GDP          Pop   Steel       GDP_pc    Prod_pc  GDP_pc_ln  \\\n",
       "1  1981  78802559.99  11348.44199  724000  6943.910015  63.797304   8.845620   \n",
       "2  1982  70661594.54  11527.27403  334000  6129.948360  28.974760   8.720942   \n",
       "3  1983  67980358.79  11714.44195  462000  5803.123963  39.438498   8.666152   \n",
       "4  1984  73394748.44  11908.18892  628000  6163.384620  52.736819   8.726381   \n",
       "5  1985  78613636.43  12107.22507  570000  6493.117620  47.079326   8.778498   \n",
       "\n",
       "   Prod_pc_ln  Prod_pc_ln_lag  \n",
       "1    4.155711             NaN  \n",
       "2    3.366425        4.155711  \n",
       "3    3.674742        3.366425  \n",
       "4    3.965314        3.674742  \n",
       "5    3.851834        3.965314  "
      ]
     },
     "execution_count": 62,
     "metadata": {},
     "output_type": "execute_result"
    }
   ],
   "source": [
    "data.head()"
   ]
  },
  {
   "cell_type": "code",
   "execution_count": 111,
   "metadata": {},
   "outputs": [
    {
     "name": "stdout",
     "output_type": "stream",
     "text": [
      "                            OLS Regression Results                            \n",
      "==============================================================================\n",
      "Dep. Variable:             Prod_pc_ln   R-squared:                       0.889\n",
      "Model:                            OLS   Adj. R-squared:                  0.882\n",
      "Method:                 Least Squares   F-statistic:                     128.3\n",
      "Date:                Sun, 23 Jun 2019   Prob (F-statistic):           5.23e-16\n",
      "Time:                        14:15:02   Log-Likelihood:                 13.244\n",
      "No. Observations:                  35   AIC:                            -20.49\n",
      "Df Residuals:                      32   BIC:                            -15.82\n",
      "Df Model:                           2                                         \n",
      "Covariance Type:            nonrobust                                         \n",
      "==============================================================================\n",
      "                 coef    std err          t      P>|t|      [0.025      0.975]\n",
      "------------------------------------------------------------------------------\n",
      "const         -4.0741      1.152     -3.536      0.001      -6.421      -1.727\n",
      "x1             0.8205      0.202      4.062      0.000       0.409       1.232\n",
      "x2             0.2155      0.180      1.198      0.240      -0.151       0.582\n",
      "==============================================================================\n",
      "Omnibus:                       21.466   Durbin-Watson:                   1.076\n",
      "Prob(Omnibus):                  0.000   Jarque-Bera (JB):               34.292\n",
      "Skew:                          -1.572   Prob(JB):                     3.58e-08\n",
      "Kurtosis:                       6.691   Cond. No.                         429.\n",
      "==============================================================================\n",
      "\n",
      "Warnings:\n",
      "[1] Standard Errors assume that the covariance matrix of the errors is correctly specified.\n"
     ]
    }
   ],
   "source": [
    "# with lag term\n",
    "X2 = np.column_stack((data['GDP_pc_ln'], data['Prod_pc_ln_lag']))\n",
    "y = data['Prod_pc_ln']\n",
    "\n",
    "X2 = sm.add_constant(X2)\n",
    "est = sm.OLS(y, X2,missing='drop')\n",
    "est2 = est.fit()\n",
    "print(est2.summary())"
   ]
  },
  {
   "cell_type": "code",
   "execution_count": 64,
   "metadata": {},
   "outputs": [],
   "source": [
    "X3 = data.drop(['GDP','Pop','Steel','GDP_pc','Prod_pc','year','Prod_pc_ln'], axis=1)"
   ]
  },
  {
   "cell_type": "code",
   "execution_count": 65,
   "metadata": {},
   "outputs": [],
   "source": [
    "X3 = data.drop(data.index[0])"
   ]
  },
  {
   "cell_type": "code",
   "execution_count": 71,
   "metadata": {},
   "outputs": [],
   "source": [
    "y = data['Prod_pc_ln'].values.reshape(-1,1)"
   ]
  },
  {
   "cell_type": "code",
   "execution_count": 67,
   "metadata": {},
   "outputs": [
    {
     "ename": "ValueError",
     "evalue": "Found input variables with inconsistent numbers of samples: [35, 36]",
     "output_type": "error",
     "traceback": [
      "\u001b[1;31m---------------------------------------------------------------------------\u001b[0m",
      "\u001b[1;31mValueError\u001b[0m                                Traceback (most recent call last)",
      "\u001b[1;32m<ipython-input-67-7d8c10188d55>\u001b[0m in \u001b[0;36m<module>\u001b[1;34m\u001b[0m\n\u001b[0;32m      1\u001b[0m \u001b[0mreg\u001b[0m \u001b[1;33m=\u001b[0m \u001b[0mLinearRegression\u001b[0m\u001b[1;33m(\u001b[0m\u001b[1;33m)\u001b[0m\u001b[1;33m\u001b[0m\u001b[1;33m\u001b[0m\u001b[0m\n\u001b[1;32m----> 2\u001b[1;33m \u001b[0mreg\u001b[0m\u001b[1;33m.\u001b[0m\u001b[0mfit\u001b[0m\u001b[1;33m(\u001b[0m\u001b[0mX3\u001b[0m\u001b[1;33m,\u001b[0m \u001b[0my\u001b[0m\u001b[1;33m)\u001b[0m\u001b[1;33m\u001b[0m\u001b[1;33m\u001b[0m\u001b[0m\n\u001b[0m",
      "\u001b[1;32m~\\Anaconda3\\lib\\site-packages\\sklearn\\linear_model\\base.py\u001b[0m in \u001b[0;36mfit\u001b[1;34m(self, X, y, sample_weight)\u001b[0m\n\u001b[0;32m    456\u001b[0m         \u001b[0mn_jobs_\u001b[0m \u001b[1;33m=\u001b[0m \u001b[0mself\u001b[0m\u001b[1;33m.\u001b[0m\u001b[0mn_jobs\u001b[0m\u001b[1;33m\u001b[0m\u001b[1;33m\u001b[0m\u001b[0m\n\u001b[0;32m    457\u001b[0m         X, y = check_X_y(X, y, accept_sparse=['csr', 'csc', 'coo'],\n\u001b[1;32m--> 458\u001b[1;33m                          y_numeric=True, multi_output=True)\n\u001b[0m\u001b[0;32m    459\u001b[0m \u001b[1;33m\u001b[0m\u001b[0m\n\u001b[0;32m    460\u001b[0m         \u001b[1;32mif\u001b[0m \u001b[0msample_weight\u001b[0m \u001b[1;32mis\u001b[0m \u001b[1;32mnot\u001b[0m \u001b[1;32mNone\u001b[0m \u001b[1;32mand\u001b[0m \u001b[0mnp\u001b[0m\u001b[1;33m.\u001b[0m\u001b[0matleast_1d\u001b[0m\u001b[1;33m(\u001b[0m\u001b[0msample_weight\u001b[0m\u001b[1;33m)\u001b[0m\u001b[1;33m.\u001b[0m\u001b[0mndim\u001b[0m \u001b[1;33m>\u001b[0m \u001b[1;36m1\u001b[0m\u001b[1;33m:\u001b[0m\u001b[1;33m\u001b[0m\u001b[1;33m\u001b[0m\u001b[0m\n",
      "\u001b[1;32m~\\Anaconda3\\lib\\site-packages\\sklearn\\utils\\validation.py\u001b[0m in \u001b[0;36mcheck_X_y\u001b[1;34m(X, y, accept_sparse, accept_large_sparse, dtype, order, copy, force_all_finite, ensure_2d, allow_nd, multi_output, ensure_min_samples, ensure_min_features, y_numeric, warn_on_dtype, estimator)\u001b[0m\n\u001b[0;32m    764\u001b[0m         \u001b[0my\u001b[0m \u001b[1;33m=\u001b[0m \u001b[0my\u001b[0m\u001b[1;33m.\u001b[0m\u001b[0mastype\u001b[0m\u001b[1;33m(\u001b[0m\u001b[0mnp\u001b[0m\u001b[1;33m.\u001b[0m\u001b[0mfloat64\u001b[0m\u001b[1;33m)\u001b[0m\u001b[1;33m\u001b[0m\u001b[1;33m\u001b[0m\u001b[0m\n\u001b[0;32m    765\u001b[0m \u001b[1;33m\u001b[0m\u001b[0m\n\u001b[1;32m--> 766\u001b[1;33m     \u001b[0mcheck_consistent_length\u001b[0m\u001b[1;33m(\u001b[0m\u001b[0mX\u001b[0m\u001b[1;33m,\u001b[0m \u001b[0my\u001b[0m\u001b[1;33m)\u001b[0m\u001b[1;33m\u001b[0m\u001b[1;33m\u001b[0m\u001b[0m\n\u001b[0m\u001b[0;32m    767\u001b[0m \u001b[1;33m\u001b[0m\u001b[0m\n\u001b[0;32m    768\u001b[0m     \u001b[1;32mreturn\u001b[0m \u001b[0mX\u001b[0m\u001b[1;33m,\u001b[0m \u001b[0my\u001b[0m\u001b[1;33m\u001b[0m\u001b[1;33m\u001b[0m\u001b[0m\n",
      "\u001b[1;32m~\\Anaconda3\\lib\\site-packages\\sklearn\\utils\\validation.py\u001b[0m in \u001b[0;36mcheck_consistent_length\u001b[1;34m(*arrays)\u001b[0m\n\u001b[0;32m    233\u001b[0m     \u001b[1;32mif\u001b[0m \u001b[0mlen\u001b[0m\u001b[1;33m(\u001b[0m\u001b[0muniques\u001b[0m\u001b[1;33m)\u001b[0m \u001b[1;33m>\u001b[0m \u001b[1;36m1\u001b[0m\u001b[1;33m:\u001b[0m\u001b[1;33m\u001b[0m\u001b[1;33m\u001b[0m\u001b[0m\n\u001b[0;32m    234\u001b[0m         raise ValueError(\"Found input variables with inconsistent numbers of\"\n\u001b[1;32m--> 235\u001b[1;33m                          \" samples: %r\" % [int(l) for l in lengths])\n\u001b[0m\u001b[0;32m    236\u001b[0m \u001b[1;33m\u001b[0m\u001b[0m\n\u001b[0;32m    237\u001b[0m \u001b[1;33m\u001b[0m\u001b[0m\n",
      "\u001b[1;31mValueError\u001b[0m: Found input variables with inconsistent numbers of samples: [35, 36]"
     ]
    }
   ],
   "source": [
    "reg = LinearRegression()\n",
    "reg.fit(X3, y)"
   ]
  },
  {
   "cell_type": "code",
   "execution_count": null,
   "metadata": {},
   "outputs": [],
   "source": [
    "print(reg.coef_)\n",
    "print(reg.intercept_)"
   ]
  },
  {
   "cell_type": "code",
   "execution_count": null,
   "metadata": {},
   "outputs": [],
   "source": [
    "predictions = reg.predict(X3)"
   ]
  },
  {
   "cell_type": "code",
   "execution_count": null,
   "metadata": {},
   "outputs": [],
   "source": [
    "predictions = reg.predict(X3)\n",
    "\n",
    "plt.figure(figsize=(16, 8))\n",
    "plt.scatter(\n",
    "    data['GDP_pc_ln'],\n",
    "    data['Prod_pc_ln'],\n",
    "    c='black'\n",
    ")\n",
    "plt.plot(\n",
    "    data['GDP_pc_ln'],\n",
    "    predictions,\n",
    "    c='blue',\n",
    "    linewidth=2\n",
    ")\n",
    "plt.xlabel(\"Money spent on TV ads ($)\")\n",
    "plt.ylabel(\"Sales ($)\")\n",
    "plt.show()"
   ]
  },
  {
   "cell_type": "code",
   "execution_count": null,
   "metadata": {},
   "outputs": [],
   "source": []
  }
 ],
 "metadata": {
  "kernelspec": {
   "display_name": "Python 3",
   "language": "python",
   "name": "python3"
  },
  "language_info": {
   "codemirror_mode": {
    "name": "ipython",
    "version": 3
   },
   "file_extension": ".py",
   "mimetype": "text/x-python",
   "name": "python",
   "nbconvert_exporter": "python",
   "pygments_lexer": "ipython3",
   "version": "3.7.3"
  }
 },
 "nbformat": 4,
 "nbformat_minor": 2
}
