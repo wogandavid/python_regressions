{
 "cells": [
  {
   "cell_type": "code",
   "execution_count": null,
   "metadata": {},
   "outputs": [],
   "source": [
    "# Model is: ln(prod,y / pop,y) = k+c1*y+c2*ln(GDP,y/Pop,y)+c3*ln(Prod,y-1/Pop,y-1)\n",
    "# where the c1*y term is the ordinal of y \n",
    "# lagged dependent variable\n",
    "\n",
    "# Q1. how to perform this using a python package\n",
    "# Q2. how to perform regression over all 21 economies at the same time to generate 21 regressions?\n",
    "\n",
    "# https://towardsdatascience.com/the-complete-guide-to-linear-regression-in-python-3d3f8f06bf8"
   ]
  },
  {
   "cell_type": "code",
   "execution_count": 1,
   "metadata": {},
   "outputs": [],
   "source": [
    "import pandas as pd\n",
    "import numpy as np\n",
    "import matplotlib.pyplot as plt\n",
    "from sklearn.linear_model import LinearRegression\n",
    "from sklearn.metrics import mean_squared_error, r2_score\n",
    "import statsmodels.api as sm"
   ]
  },
  {
   "cell_type": "code",
   "execution_count": 2,
   "metadata": {},
   "outputs": [
    {
     "data": {
      "text/html": [
       "<div>\n",
       "<style scoped>\n",
       "    .dataframe tbody tr th:only-of-type {\n",
       "        vertical-align: middle;\n",
       "    }\n",
       "\n",
       "    .dataframe tbody tr th {\n",
       "        vertical-align: top;\n",
       "    }\n",
       "\n",
       "    .dataframe thead th {\n",
       "        text-align: right;\n",
       "    }\n",
       "</style>\n",
       "<table border=\"1\" class=\"dataframe\">\n",
       "  <thead>\n",
       "    <tr style=\"text-align: right;\">\n",
       "      <th></th>\n",
       "      <th>year</th>\n",
       "      <th>GDP</th>\n",
       "      <th>Pop</th>\n",
       "      <th>Steel</th>\n",
       "    </tr>\n",
       "  </thead>\n",
       "  <tbody>\n",
       "    <tr>\n",
       "      <th>0</th>\n",
       "      <td>1980</td>\n",
       "      <td>75244937.47</td>\n",
       "      <td>11178.81699</td>\n",
       "      <td>809000</td>\n",
       "    </tr>\n",
       "    <tr>\n",
       "      <th>1</th>\n",
       "      <td>1981</td>\n",
       "      <td>78802559.99</td>\n",
       "      <td>11348.44199</td>\n",
       "      <td>724000</td>\n",
       "    </tr>\n",
       "    <tr>\n",
       "      <th>2</th>\n",
       "      <td>1982</td>\n",
       "      <td>70661594.54</td>\n",
       "      <td>11527.27403</td>\n",
       "      <td>334000</td>\n",
       "    </tr>\n",
       "    <tr>\n",
       "      <th>3</th>\n",
       "      <td>1983</td>\n",
       "      <td>67980358.79</td>\n",
       "      <td>11714.44195</td>\n",
       "      <td>462000</td>\n",
       "    </tr>\n",
       "    <tr>\n",
       "      <th>4</th>\n",
       "      <td>1984</td>\n",
       "      <td>73394748.44</td>\n",
       "      <td>11908.18892</td>\n",
       "      <td>628000</td>\n",
       "    </tr>\n",
       "  </tbody>\n",
       "</table>\n",
       "</div>"
      ],
      "text/plain": [
       "   year          GDP          Pop   Steel\n",
       "0  1980  75244937.47  11178.81699  809000\n",
       "1  1981  78802559.99  11348.44199  724000\n",
       "2  1982  70661594.54  11527.27403  334000\n",
       "3  1983  67980358.79  11714.44195  462000\n",
       "4  1984  73394748.44  11908.18892  628000"
      ]
     },
     "execution_count": 2,
     "metadata": {},
     "output_type": "execute_result"
    }
   ],
   "source": [
    "data = pd.read_csv(\"04_CHL.csv\")\n",
    "data.head()"
   ]
  },
  {
   "cell_type": "code",
   "execution_count": 3,
   "metadata": {},
   "outputs": [
    {
     "data": {
      "text/html": [
       "<div>\n",
       "<style scoped>\n",
       "    .dataframe tbody tr th:only-of-type {\n",
       "        vertical-align: middle;\n",
       "    }\n",
       "\n",
       "    .dataframe tbody tr th {\n",
       "        vertical-align: top;\n",
       "    }\n",
       "\n",
       "    .dataframe thead th {\n",
       "        text-align: right;\n",
       "    }\n",
       "</style>\n",
       "<table border=\"1\" class=\"dataframe\">\n",
       "  <thead>\n",
       "    <tr style=\"text-align: right;\">\n",
       "      <th></th>\n",
       "      <th>year</th>\n",
       "      <th>GDP</th>\n",
       "      <th>Pop</th>\n",
       "      <th>Steel</th>\n",
       "      <th>GDP_pc</th>\n",
       "      <th>Prod_pc</th>\n",
       "    </tr>\n",
       "  </thead>\n",
       "  <tbody>\n",
       "    <tr>\n",
       "      <th>0</th>\n",
       "      <td>1980</td>\n",
       "      <td>75244937.47</td>\n",
       "      <td>11178.81699</td>\n",
       "      <td>809000</td>\n",
       "      <td>6731.028653</td>\n",
       "      <td>72.369017</td>\n",
       "    </tr>\n",
       "    <tr>\n",
       "      <th>1</th>\n",
       "      <td>1981</td>\n",
       "      <td>78802559.99</td>\n",
       "      <td>11348.44199</td>\n",
       "      <td>724000</td>\n",
       "      <td>6943.910015</td>\n",
       "      <td>63.797304</td>\n",
       "    </tr>\n",
       "    <tr>\n",
       "      <th>2</th>\n",
       "      <td>1982</td>\n",
       "      <td>70661594.54</td>\n",
       "      <td>11527.27403</td>\n",
       "      <td>334000</td>\n",
       "      <td>6129.948360</td>\n",
       "      <td>28.974760</td>\n",
       "    </tr>\n",
       "    <tr>\n",
       "      <th>3</th>\n",
       "      <td>1983</td>\n",
       "      <td>67980358.79</td>\n",
       "      <td>11714.44195</td>\n",
       "      <td>462000</td>\n",
       "      <td>5803.123963</td>\n",
       "      <td>39.438498</td>\n",
       "    </tr>\n",
       "    <tr>\n",
       "      <th>4</th>\n",
       "      <td>1984</td>\n",
       "      <td>73394748.44</td>\n",
       "      <td>11908.18892</td>\n",
       "      <td>628000</td>\n",
       "      <td>6163.384620</td>\n",
       "      <td>52.736819</td>\n",
       "    </tr>\n",
       "  </tbody>\n",
       "</table>\n",
       "</div>"
      ],
      "text/plain": [
       "   year          GDP          Pop   Steel       GDP_pc    Prod_pc\n",
       "0  1980  75244937.47  11178.81699  809000  6731.028653  72.369017\n",
       "1  1981  78802559.99  11348.44199  724000  6943.910015  63.797304\n",
       "2  1982  70661594.54  11527.27403  334000  6129.948360  28.974760\n",
       "3  1983  67980358.79  11714.44195  462000  5803.123963  39.438498\n",
       "4  1984  73394748.44  11908.18892  628000  6163.384620  52.736819"
      ]
     },
     "execution_count": 3,
     "metadata": {},
     "output_type": "execute_result"
    }
   ],
   "source": [
    "# data in per capita\n",
    "data['GDP_pc'] = data[['GDP']].div(data.Pop, axis=0)\n",
    "data['Prod_pc'] = data[['Steel']].div(data.Pop, axis=0)\n",
    "data.head()"
   ]
  },
  {
   "cell_type": "code",
   "execution_count": 4,
   "metadata": {},
   "outputs": [
    {
     "data": {
      "text/plain": [
       "<matplotlib.collections.PathCollection at 0x143b00d1550>"
      ]
     },
     "execution_count": 4,
     "metadata": {},
     "output_type": "execute_result"
    },
    {
     "data": {
      "image/png": "[encoded data removed]",
      "text/plain": [
       "<Figure size 432x288 with 1 Axes>"
      ]
     },
     "metadata": {
      "needs_background": "light"
     },
     "output_type": "display_data"
    }
   ],
   "source": [
    "# visualize GDP per capita on Production per capita \n",
    "plt.figure(figsize=(6, 4))\n",
    "plt.scatter(\n",
    "    data['GDP_pc'],\n",
    "    data['Prod_pc'],\n",
    "    c='black'\n",
    ")"
   ]
  },
  {
   "cell_type": "code",
   "execution_count": 5,
   "metadata": {},
   "outputs": [
    {
     "data": {
      "text/html": [
       "<div>\n",
       "<style scoped>\n",
       "    .dataframe tbody tr th:only-of-type {\n",
       "        vertical-align: middle;\n",
       "    }\n",
       "\n",
       "    .dataframe tbody tr th {\n",
       "        vertical-align: top;\n",
       "    }\n",
       "\n",
       "    .dataframe thead th {\n",
       "        text-align: right;\n",
       "    }\n",
       "</style>\n",
       "<table border=\"1\" class=\"dataframe\">\n",
       "  <thead>\n",
       "    <tr style=\"text-align: right;\">\n",
       "      <th></th>\n",
       "      <th>year</th>\n",
       "      <th>GDP</th>\n",
       "      <th>Pop</th>\n",
       "      <th>Steel</th>\n",
       "      <th>GDP_pc</th>\n",
       "      <th>Prod_pc</th>\n",
       "      <th>GDP_pc_ln</th>\n",
       "      <th>Prod_pc_ln</th>\n",
       "    </tr>\n",
       "  </thead>\n",
       "  <tbody>\n",
       "    <tr>\n",
       "      <th>0</th>\n",
       "      <td>1980</td>\n",
       "      <td>75244937.47</td>\n",
       "      <td>11178.81699</td>\n",
       "      <td>809000</td>\n",
       "      <td>6731.028653</td>\n",
       "      <td>72.369017</td>\n",
       "      <td>8.814483</td>\n",
       "      <td>4.281778</td>\n",
       "    </tr>\n",
       "    <tr>\n",
       "      <th>1</th>\n",
       "      <td>1981</td>\n",
       "      <td>78802559.99</td>\n",
       "      <td>11348.44199</td>\n",
       "      <td>724000</td>\n",
       "      <td>6943.910015</td>\n",
       "      <td>63.797304</td>\n",
       "      <td>8.845620</td>\n",
       "      <td>4.155711</td>\n",
       "    </tr>\n",
       "    <tr>\n",
       "      <th>2</th>\n",
       "      <td>1982</td>\n",
       "      <td>70661594.54</td>\n",
       "      <td>11527.27403</td>\n",
       "      <td>334000</td>\n",
       "      <td>6129.948360</td>\n",
       "      <td>28.974760</td>\n",
       "      <td>8.720942</td>\n",
       "      <td>3.366425</td>\n",
       "    </tr>\n",
       "    <tr>\n",
       "      <th>3</th>\n",
       "      <td>1983</td>\n",
       "      <td>67980358.79</td>\n",
       "      <td>11714.44195</td>\n",
       "      <td>462000</td>\n",
       "      <td>5803.123963</td>\n",
       "      <td>39.438498</td>\n",
       "      <td>8.666152</td>\n",
       "      <td>3.674742</td>\n",
       "    </tr>\n",
       "    <tr>\n",
       "      <th>4</th>\n",
       "      <td>1984</td>\n",
       "      <td>73394748.44</td>\n",
       "      <td>11908.18892</td>\n",
       "      <td>628000</td>\n",
       "      <td>6163.384620</td>\n",
       "      <td>52.736819</td>\n",
       "      <td>8.726381</td>\n",
       "      <td>3.965314</td>\n",
       "    </tr>\n",
       "  </tbody>\n",
       "</table>\n",
       "</div>"
      ],
      "text/plain": [
       "   year          GDP          Pop   Steel       GDP_pc    Prod_pc  GDP_pc_ln  \\\n",
       "0  1980  75244937.47  11178.81699  809000  6731.028653  72.369017   8.814483   \n",
       "1  1981  78802559.99  11348.44199  724000  6943.910015  63.797304   8.845620   \n",
       "2  1982  70661594.54  11527.27403  334000  6129.948360  28.974760   8.720942   \n",
       "3  1983  67980358.79  11714.44195  462000  5803.123963  39.438498   8.666152   \n",
       "4  1984  73394748.44  11908.18892  628000  6163.384620  52.736819   8.726381   \n",
       "\n",
       "   Prod_pc_ln  \n",
       "0    4.281778  \n",
       "1    4.155711  \n",
       "2    3.366425  \n",
       "3    3.674742  \n",
       "4    3.965314  "
      ]
     },
     "execution_count": 5,
     "metadata": {},
     "output_type": "execute_result"
    }
   ],
   "source": [
    "# from above, looks to be logarithmic \n",
    "# take ln to linearize\n",
    "data['GDP_pc_ln'] = np.log(data.GDP_pc)\n",
    "data['Prod_pc_ln'] = np.log(data.Prod_pc)\n",
    "data.head()"
   ]
  },
  {
   "cell_type": "code",
   "execution_count": 6,
   "metadata": {},
   "outputs": [
    {
     "data": {
      "text/plain": [
       "<matplotlib.collections.PathCollection at 0x143b017a518>"
      ]
     },
     "execution_count": 6,
     "metadata": {},
     "output_type": "execute_result"
    },
    {
     "data": {
      "image/png": "[encoded data removed]",
      "text/plain": [
       "<Figure size 432x288 with 1 Axes>"
      ]
     },
     "metadata": {
      "needs_background": "light"
     },
     "output_type": "display_data"
    }
   ],
   "source": [
    "# visualize GDP per capita on Production per capita in ln terms \n",
    "plt.figure(figsize=(6, 4))\n",
    "plt.scatter(\n",
    "    data['GDP_pc_ln'],\n",
    "    data['Prod_pc_ln'],\n",
    "    c='blue'\n",
    ")"
   ]
  },
  {
   "cell_type": "code",
   "execution_count": 26,
   "metadata": {},
   "outputs": [
    {
     "data": {
      "text/plain": [
       "LinearRegression(copy_X=True, fit_intercept=True, n_jobs=None,\n",
       "         normalize=False)"
      ]
     },
     "execution_count": 26,
     "metadata": {},
     "output_type": "execute_result"
    }
   ],
   "source": [
    "# regression without lag term\n",
    "# regression using Sci-kit Learn\n",
    "X = data[['GDP_pc_ln']]\n",
    "y = data['Prod_pc_ln'].values.reshape(-1,1)\n",
    "reg = LinearRegression()\n",
    "reg.fit(X[['GDP_pc_ln']], y)"
   ]
  },
  {
   "cell_type": "code",
   "execution_count": 27,
   "metadata": {},
   "outputs": [
    {
     "name": "stdout",
     "output_type": "stream",
     "text": [
      "[[1.04012699]]\n",
      "[-5.14347772]\n"
     ]
    }
   ],
   "source": [
    "print(reg.coef_)\n",
    "print(reg.intercept_)"
   ]
  },
  {
   "cell_type": "code",
   "execution_count": 30,
   "metadata": {},
   "outputs": [
    {
     "data": {
      "text/plain": [
       "array([[4.05709069],\n",
       "       [3.92740902],\n",
       "       [3.87042053],\n",
       "       [3.93306705],\n",
       "       [3.98727505],\n",
       "       [4.02649916],\n",
       "       [4.07539088],\n",
       "       [4.13104006],\n",
       "       [4.21735967],\n",
       "       [4.38032657],\n",
       "       [4.44173816],\n",
       "       [4.53543631],\n",
       "       [4.58579909],\n",
       "       [4.62137819],\n",
       "       [4.69528141],\n",
       "       [4.74921622],\n",
       "       [4.80970278],\n",
       "       [4.8402365 ],\n",
       "       [4.82275038],\n",
       "       [4.86397875],\n",
       "       [4.88545005],\n",
       "       [4.90535595],\n",
       "       [4.93534285],\n",
       "       [4.99635939],\n",
       "       [5.04323579],\n",
       "       [5.09592953],\n",
       "       [5.1348338 ],\n",
       "       [5.16024496],\n",
       "       [5.13341077],\n",
       "       [5.18240064],\n",
       "       [5.23434788],\n",
       "       [5.2787705 ],\n",
       "       [5.31086192],\n",
       "       [5.32012265],\n",
       "       [5.33506643],\n",
       "       [5.33957814]])"
      ]
     },
     "execution_count": 30,
     "metadata": {},
     "output_type": "execute_result"
    }
   ],
   "source": [
    "reg.predict(X)"
   ]
  },
  {
   "cell_type": "code",
   "execution_count": null,
   "metadata": {},
   "outputs": [],
   "source": []
  },
  {
   "cell_type": "code",
   "execution_count": null,
   "metadata": {},
   "outputs": [],
   "source": []
  },
  {
   "cell_type": "code",
   "execution_count": 9,
   "metadata": {},
   "outputs": [
    {
     "data": {
      "text/html": [
       "<div>\n",
       "<style scoped>\n",
       "    .dataframe tbody tr th:only-of-type {\n",
       "        vertical-align: middle;\n",
       "    }\n",
       "\n",
       "    .dataframe tbody tr th {\n",
       "        vertical-align: top;\n",
       "    }\n",
       "\n",
       "    .dataframe thead th {\n",
       "        text-align: right;\n",
       "    }\n",
       "</style>\n",
       "<table border=\"1\" class=\"dataframe\">\n",
       "  <thead>\n",
       "    <tr style=\"text-align: right;\">\n",
       "      <th></th>\n",
       "      <th>year</th>\n",
       "      <th>GDP</th>\n",
       "      <th>Pop</th>\n",
       "      <th>Steel</th>\n",
       "      <th>GDP_pc</th>\n",
       "      <th>Prod_pc</th>\n",
       "      <th>GDP_pc_ln</th>\n",
       "      <th>Prod_pc_ln</th>\n",
       "      <th>Prod_pc_ln_lag</th>\n",
       "    </tr>\n",
       "  </thead>\n",
       "  <tbody>\n",
       "    <tr>\n",
       "      <th>1</th>\n",
       "      <td>1981</td>\n",
       "      <td>78802559.99</td>\n",
       "      <td>11348.44199</td>\n",
       "      <td>724000</td>\n",
       "      <td>6943.910015</td>\n",
       "      <td>63.797304</td>\n",
       "      <td>8.845620</td>\n",
       "      <td>4.155711</td>\n",
       "      <td>4.281778</td>\n",
       "    </tr>\n",
       "    <tr>\n",
       "      <th>2</th>\n",
       "      <td>1982</td>\n",
       "      <td>70661594.54</td>\n",
       "      <td>11527.27403</td>\n",
       "      <td>334000</td>\n",
       "      <td>6129.948360</td>\n",
       "      <td>28.974760</td>\n",
       "      <td>8.720942</td>\n",
       "      <td>3.366425</td>\n",
       "      <td>4.155711</td>\n",
       "    </tr>\n",
       "    <tr>\n",
       "      <th>3</th>\n",
       "      <td>1983</td>\n",
       "      <td>67980358.79</td>\n",
       "      <td>11714.44195</td>\n",
       "      <td>462000</td>\n",
       "      <td>5803.123963</td>\n",
       "      <td>39.438498</td>\n",
       "      <td>8.666152</td>\n",
       "      <td>3.674742</td>\n",
       "      <td>3.366425</td>\n",
       "    </tr>\n",
       "    <tr>\n",
       "      <th>4</th>\n",
       "      <td>1984</td>\n",
       "      <td>73394748.44</td>\n",
       "      <td>11908.18892</td>\n",
       "      <td>628000</td>\n",
       "      <td>6163.384620</td>\n",
       "      <td>52.736819</td>\n",
       "      <td>8.726381</td>\n",
       "      <td>3.965314</td>\n",
       "      <td>3.674742</td>\n",
       "    </tr>\n",
       "    <tr>\n",
       "      <th>5</th>\n",
       "      <td>1985</td>\n",
       "      <td>78613636.43</td>\n",
       "      <td>12107.22507</td>\n",
       "      <td>570000</td>\n",
       "      <td>6493.117620</td>\n",
       "      <td>47.079326</td>\n",
       "      <td>8.778498</td>\n",
       "      <td>3.851834</td>\n",
       "      <td>3.965314</td>\n",
       "    </tr>\n",
       "  </tbody>\n",
       "</table>\n",
       "</div>"
      ],
      "text/plain": [
       "   year          GDP          Pop   Steel       GDP_pc    Prod_pc  GDP_pc_ln  \\\n",
       "1  1981  78802559.99  11348.44199  724000  6943.910015  63.797304   8.845620   \n",
       "2  1982  70661594.54  11527.27403  334000  6129.948360  28.974760   8.720942   \n",
       "3  1983  67980358.79  11714.44195  462000  5803.123963  39.438498   8.666152   \n",
       "4  1984  73394748.44  11908.18892  628000  6163.384620  52.736819   8.726381   \n",
       "5  1985  78613636.43  12107.22507  570000  6493.117620  47.079326   8.778498   \n",
       "\n",
       "   Prod_pc_ln  Prod_pc_ln_lag  \n",
       "1    4.155711        4.281778  \n",
       "2    3.366425        4.155711  \n",
       "3    3.674742        3.366425  \n",
       "4    3.965314        3.674742  \n",
       "5    3.851834        3.965314  "
      ]
     },
     "execution_count": 9,
     "metadata": {},
     "output_type": "execute_result"
    }
   ],
   "source": [
    "# add laged dependent variable term\n",
    "data['Prod_pc_ln_lag'] = data['Prod_pc_ln'].shift(periods=1)\n",
    "data = data.dropna()\n",
    "data.head()"
   ]
  },
  {
   "cell_type": "code",
   "execution_count": 10,
   "metadata": {},
   "outputs": [
    {
     "data": {
      "text/plain": [
       "LinearRegression(copy_X=True, fit_intercept=True, n_jobs=None,\n",
       "         normalize=False)"
      ]
     },
     "execution_count": 10,
     "metadata": {},
     "output_type": "execute_result"
    }
   ],
   "source": [
    "# regression with lagged dependent variable term\n",
    "# regression using Sci-kit Learn\n",
    "Xlag = data[['GDP_pc_ln','Prod_pc_ln_lag']]\n",
    "y = data['Prod_pc_ln'].values.reshape(-1,1)\n",
    "reg = LinearRegression()\n",
    "reg.fit(Xlag[['GDP_pc_ln','Prod_pc_ln_lag']], y)"
   ]
  },
  {
   "cell_type": "code",
   "execution_count": 11,
   "metadata": {},
   "outputs": [
    {
     "name": "stdout",
     "output_type": "stream",
     "text": [
      "[[0.80354641 0.22777734]]\n",
      "[-3.96944053]\n"
     ]
    }
   ],
   "source": [
    "print(reg.coef_)\n",
    "print(reg.intercept_)"
   ]
  },
  {
   "cell_type": "code",
   "execution_count": 12,
   "metadata": {},
   "outputs": [
    {
     "name": "stdout",
     "output_type": "stream",
     "text": [
      "                            OLS Regression Results                            \n",
      "==============================================================================\n",
      "Dep. Variable:             Prod_pc_ln   R-squared:                       0.893\n",
      "Model:                            OLS   Adj. R-squared:                  0.886\n",
      "Method:                 Least Squares   F-statistic:                     137.5\n",
      "Date:                Mon, 24 Jun 2019   Prob (F-statistic):           9.82e-17\n",
      "Time:                        10:56:45   Log-Likelihood:                 14.090\n",
      "No. Observations:                  36   AIC:                            -22.18\n",
      "Df Residuals:                      33   BIC:                            -17.43\n",
      "Df Model:                           2                                         \n",
      "Covariance Type:            nonrobust                                         \n",
      "==============================================================================\n",
      "                 coef    std err          t      P>|t|      [0.025      0.975]\n",
      "------------------------------------------------------------------------------\n",
      "const         -3.9694      1.066     -3.725      0.001      -6.137      -1.802\n",
      "x1             0.8035      0.189      4.260      0.000       0.420       1.187\n",
      "x2             0.2278      0.171      1.330      0.192      -0.121       0.576\n",
      "==============================================================================\n",
      "Omnibus:                       23.672   Durbin-Watson:                   1.543\n",
      "Prob(Omnibus):                  0.000   Jarque-Bera (JB):               41.946\n",
      "Skew:                          -1.663   Prob(JB):                     7.79e-10\n",
      "Kurtosis:                       7.112   Cond. No.                         408.\n",
      "==============================================================================\n",
      "\n",
      "Warnings:\n",
      "[1] Standard Errors assume that the covariance matrix of the errors is correctly specified.\n"
     ]
    }
   ],
   "source": [
    "# using statsmodel\n",
    "# with lag term\n",
    "X2 = np.column_stack((data['GDP_pc_ln'], data['Prod_pc_ln_lag']))\n",
    "y = data['Prod_pc_ln']\n",
    "\n",
    "X2 = sm.add_constant(X2)\n",
    "est = sm.OLS(y, X2,missing='drop')\n",
    "est2 = est.fit()\n",
    "print(est2.summary())"
   ]
  },
  {
   "cell_type": "code",
   "execution_count": 13,
   "metadata": {},
   "outputs": [],
   "source": [
    "# predictions using model - sklearn\n",
    "predictions = reg.predict(Xlag)\n",
    "y = data['Prod_pc_ln'].values.reshape(-1,1)"
   ]
  },
  {
   "cell_type": "code",
   "execution_count": 14,
   "metadata": {},
   "outputs": [
    {
     "data": {
      "image/png": "[encoded data removed]",
      "text/plain": [
       "<Figure size 432x288 with 1 Axes>"
      ]
     },
     "metadata": {
      "needs_background": "light"
     },
     "output_type": "display_data"
    }
   ],
   "source": [
    "plt.figure(figsize=(6, 4))\n",
    "plt.scatter(\n",
    "    data['GDP_pc_ln'],\n",
    "    data['Prod_pc_ln'],\n",
    "    c='blue'\n",
    ")\n",
    "plt.plot(\n",
    "    data['GDP_pc_ln'],\n",
    "    predictions,\n",
    "    c='blacK',\n",
    "    linewidth=2\n",
    ")\n",
    "plt.xlabel(\"GDP_pc_ln\")\n",
    "plt.ylabel(\"Prod_pc_ln\")\n",
    "plt.show()"
   ]
  },
  {
   "cell_type": "code",
   "execution_count": 15,
   "metadata": {},
   "outputs": [],
   "source": [
    "Result = np.exp(predictions)"
   ]
  },
  {
   "cell_type": "code",
   "execution_count": 16,
   "metadata": {},
   "outputs": [
    {
     "data": {
      "image/png": "[encoded data removed]",
      "text/plain": [
       "<Figure size 432x288 with 1 Axes>"
      ]
     },
     "metadata": {
      "needs_background": "light"
     },
     "output_type": "display_data"
    }
   ],
   "source": [
    "plt.scatter(\n",
    "    data['year'],\n",
    "    data['Prod_pc'],\n",
    "    c='blue'\n",
    ")\n",
    "plt.plot(\n",
    "    data['year'],\n",
    "    Result,\n",
    "    c='black',\n",
    "    linewidth=2\n",
    ")\n",
    "plt.xlabel(\"year\")\n",
    "plt.ylabel(\"Production per capita\")\n",
    "plt.show()"
   ]
  },
  {
   "cell_type": "code",
   "execution_count": 19,
   "metadata": {},
   "outputs": [
    {
     "data": {
      "text/html": [
       "<div>\n",
       "<style scoped>\n",
       "    .dataframe tbody tr th:only-of-type {\n",
       "        vertical-align: middle;\n",
       "    }\n",
       "\n",
       "    .dataframe tbody tr th {\n",
       "        vertical-align: top;\n",
       "    }\n",
       "\n",
       "    .dataframe thead th {\n",
       "        text-align: right;\n",
       "    }\n",
       "</style>\n",
       "<table border=\"1\" class=\"dataframe\">\n",
       "  <thead>\n",
       "    <tr style=\"text-align: right;\">\n",
       "      <th></th>\n",
       "      <th>year</th>\n",
       "      <th>GDP</th>\n",
       "      <th>Pop</th>\n",
       "    </tr>\n",
       "  </thead>\n",
       "  <tbody>\n",
       "    <tr>\n",
       "      <th>0</th>\n",
       "      <td>2017</td>\n",
       "      <td>433123906.6</td>\n",
       "      <td>17910</td>\n",
       "    </tr>\n",
       "    <tr>\n",
       "      <th>1</th>\n",
       "      <td>2018</td>\n",
       "      <td>457489274.7</td>\n",
       "      <td>18055</td>\n",
       "    </tr>\n",
       "    <tr>\n",
       "      <th>2</th>\n",
       "      <td>2019</td>\n",
       "      <td>482243933.1</td>\n",
       "      <td>18197</td>\n",
       "    </tr>\n",
       "    <tr>\n",
       "      <th>3</th>\n",
       "      <td>2020</td>\n",
       "      <td>507191163.8</td>\n",
       "      <td>18336</td>\n",
       "    </tr>\n",
       "    <tr>\n",
       "      <th>4</th>\n",
       "      <td>2021</td>\n",
       "      <td>532183277.9</td>\n",
       "      <td>18472</td>\n",
       "    </tr>\n",
       "  </tbody>\n",
       "</table>\n",
       "</div>"
      ],
      "text/plain": [
       "   year          GDP    Pop\n",
       "0  2017  433123906.6  17910\n",
       "1  2018  457489274.7  18055\n",
       "2  2019  482243933.1  18197\n",
       "3  2020  507191163.8  18336\n",
       "4  2021  532183277.9  18472"
      ]
     },
     "execution_count": 19,
     "metadata": {},
     "output_type": "execute_result"
    }
   ],
   "source": [
    "# now start projection\n",
    "data_p = pd.read_csv(\"04_CHL_forecast.csv\")\n",
    "data_p.head()"
   ]
  },
  {
   "cell_type": "code",
   "execution_count": 23,
   "metadata": {},
   "outputs": [
    {
     "data": {
      "text/html": [
       "<div>\n",
       "<style scoped>\n",
       "    .dataframe tbody tr th:only-of-type {\n",
       "        vertical-align: middle;\n",
       "    }\n",
       "\n",
       "    .dataframe tbody tr th {\n",
       "        vertical-align: top;\n",
       "    }\n",
       "\n",
       "    .dataframe thead th {\n",
       "        text-align: right;\n",
       "    }\n",
       "</style>\n",
       "<table border=\"1\" class=\"dataframe\">\n",
       "  <thead>\n",
       "    <tr style=\"text-align: right;\">\n",
       "      <th></th>\n",
       "      <th>year</th>\n",
       "      <th>GDP</th>\n",
       "      <th>Pop</th>\n",
       "      <th>GDP_pc</th>\n",
       "      <th>GDP_pc_ln</th>\n",
       "    </tr>\n",
       "  </thead>\n",
       "  <tbody>\n",
       "    <tr>\n",
       "      <th>0</th>\n",
       "      <td>2017</td>\n",
       "      <td>433123906.6</td>\n",
       "      <td>17910</td>\n",
       "      <td>24183.356036</td>\n",
       "      <td>10.093420</td>\n",
       "    </tr>\n",
       "    <tr>\n",
       "      <th>1</th>\n",
       "      <td>2018</td>\n",
       "      <td>457489274.7</td>\n",
       "      <td>18055</td>\n",
       "      <td>25338.647173</td>\n",
       "      <td>10.140086</td>\n",
       "    </tr>\n",
       "    <tr>\n",
       "      <th>2</th>\n",
       "      <td>2019</td>\n",
       "      <td>482243933.1</td>\n",
       "      <td>18197</td>\n",
       "      <td>26501.287745</td>\n",
       "      <td>10.184949</td>\n",
       "    </tr>\n",
       "    <tr>\n",
       "      <th>3</th>\n",
       "      <td>2020</td>\n",
       "      <td>507191163.8</td>\n",
       "      <td>18336</td>\n",
       "      <td>27660.949160</td>\n",
       "      <td>10.227777</td>\n",
       "    </tr>\n",
       "    <tr>\n",
       "      <th>4</th>\n",
       "      <td>2021</td>\n",
       "      <td>532183277.9</td>\n",
       "      <td>18472</td>\n",
       "      <td>28810.268401</td>\n",
       "      <td>10.268487</td>\n",
       "    </tr>\n",
       "  </tbody>\n",
       "</table>\n",
       "</div>"
      ],
      "text/plain": [
       "   year          GDP    Pop        GDP_pc  GDP_pc_ln\n",
       "0  2017  433123906.6  17910  24183.356036  10.093420\n",
       "1  2018  457489274.7  18055  25338.647173  10.140086\n",
       "2  2019  482243933.1  18197  26501.287745  10.184949\n",
       "3  2020  507191163.8  18336  27660.949160  10.227777\n",
       "4  2021  532183277.9  18472  28810.268401  10.268487"
      ]
     },
     "execution_count": 23,
     "metadata": {},
     "output_type": "execute_result"
    }
   ],
   "source": [
    "# GDP per capita forecast\n",
    "data_p['GDP_pc'] = data_p[['GDP']].div(data_p.Pop, axis=0)\n",
    "data_p['GDP_pc_ln'] = np.log(data_p.GDP_pc)\n",
    "data_p.head()"
   ]
  },
  {
   "cell_type": "code",
   "execution_count": 29,
   "metadata": {},
   "outputs": [
    {
     "data": {
      "text/plain": [
       "array([[5.35496075],\n",
       "       [5.40349948],\n",
       "       [5.45016221],\n",
       "       [5.4947091 ],\n",
       "       [5.5370529 ],\n",
       "       [5.57717058],\n",
       "       [5.61515319],\n",
       "       [5.65110381],\n",
       "       [5.68516949],\n",
       "       [5.71741569],\n",
       "       [5.74813586],\n",
       "       [5.77739544],\n",
       "       [5.80552084],\n",
       "       [5.83266552],\n",
       "       [5.8588659 ],\n",
       "       [5.88446487],\n",
       "       [5.90941814],\n",
       "       [5.93393337],\n",
       "       [5.95794097],\n",
       "       [5.98156516],\n",
       "       [6.00486557],\n",
       "       [6.02788432],\n",
       "       [6.05064356],\n",
       "       [6.07320234],\n",
       "       [6.09546207],\n",
       "       [6.11742986],\n",
       "       [6.13920697],\n",
       "       [6.16073271],\n",
       "       [6.18204021],\n",
       "       [6.20301016],\n",
       "       [6.22368111],\n",
       "       [6.24409105],\n",
       "       [6.26407852],\n",
       "       [6.28378393]])"
      ]
     },
     "execution_count": 29,
     "metadata": {},
     "output_type": "execute_result"
    }
   ],
   "source": [
    "# how to use this to generate forecast? \n",
    "# predicting without the lagged dependent variable\n",
    "reg.predict(data_p['GDP_pc_ln'].values.reshape(-1,1))"
   ]
  },
  {
   "cell_type": "code",
   "execution_count": null,
   "metadata": {},
   "outputs": [],
   "source": []
  },
  {
   "cell_type": "code",
   "execution_count": null,
   "metadata": {},
   "outputs": [],
   "source": [
    "# where does Prod_pc_ln_lag come from here?\n",
    "# maybe VAR? https://machinelearningmastery.com/time-series-forecasting-methods-in-python-cheat-sheet/\n",
    "# http://www.statsmodels.org/dev/generated/statsmodels.tsa.vector_ar.var_model.VAR.html\n",
    "\n",
    "#Xproj = data_p[['GDP_pc_ln','Prod_pc_ln_lag']]\n",
    "#projections = reg.predict(Xproj)"
   ]
  },
  {
   "cell_type": "code",
   "execution_count": null,
   "metadata": {},
   "outputs": [],
   "source": [
    "# remaining items\n",
    "# 1. include year ordinal -- is this necessary?\n",
    "# 2. project (predict) using future values of GDP and population\n",
    "# 3. perform for reminaing 21 economies - automate?"
   ]
  }
 ],
 "metadata": {
  "kernelspec": {
   "display_name": "Python 3",
   "language": "python",
   "name": "python3"
  },
  "language_info": {
   "codemirror_mode": {
    "name": "ipython",
    "version": 3
   },
   "file_extension": ".py",
   "mimetype": "text/x-python",
   "name": "python",
   "nbconvert_exporter": "python",
   "pygments_lexer": "ipython3",
   "version": "3.7.3"
  }
 },
 "nbformat": 4,
 "nbformat_minor": 2
}
